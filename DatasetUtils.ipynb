{
 "metadata": {
  "name": ""
 },
 "nbformat": 3,
 "nbformat_minor": 0,
 "worksheets": [
  {
   "cells": [
    {
     "cell_type": "code",
     "collapsed": false,
     "input": [
      "import matplotlib.pyplot as plt\n",
      "import os\n",
      "import glob"
     ],
     "language": "python",
     "metadata": {},
     "outputs": [],
     "prompt_number": 26
    },
    {
     "cell_type": "code",
     "collapsed": false,
     "input": [
      "class DatasetUtils(object):\n",
      "    \"\"\" Image Processing Library for Reid\n",
      "\n",
      "    This library contains a lot of basic operation functions mostly used in reid task\n",
      "    *. load images\n",
      "    *. load labels\n",
      "    *. load other auxilary data\n",
      "    *. generate partitions\n",
      "    *. load partitions\n",
      "    *. visualize samples\n",
      "    \"\"\"\n",
      "    def __init__(self, dataset):\n",
      "        \"\"\" Initialize the parameters of the logistic regression\n",
      "            :type dataset: string\n",
      "            :param dataset: dataset name, and through telling the what dataset is, \n",
      "                            we customize some dataset-specific functions\n",
      "        \"\"\"\n",
      "        self.dataset = dataset\n",
      "        \n",
      "        if dataset == 'viper':\n",
      "            self.dataset_dir = '/home/rzhao/Projects/data/viper/'\n",
      "            self.image_ext = 'png'\n",
      "        elif dataset == 'campus':\n",
      "            self.dataset_dir = '/home/rzhao/Projects/data/'\n",
      "    \n",
      "    def load_images(self):\n",
      "        files = sorted(glob.glob(self.dataset_dir + '*.' + self.image_ext))\n",
      "        return files\n",
      "    \n",
      "    def gen_partition(self, ratio=0.5):\n",
      "        \"\"\" Generate training/testing partitions\n",
      "            type ratio: float\n",
      "            param ratio: ratio of training set and testing set\n",
      "        \"\"\"\n",
      "        \n",
      "        "
     ],
     "language": "python",
     "metadata": {},
     "outputs": [],
     "prompt_number": 39
    },
    {
     "cell_type": "code",
     "collapsed": false,
     "input": [
      "dataset = DatasetUtils('viper')"
     ],
     "language": "python",
     "metadata": {},
     "outputs": [],
     "prompt_number": 40
    },
    {
     "cell_type": "code",
     "collapsed": false,
     "input": [
      "files = dataset.load_dataset()"
     ],
     "language": "python",
     "metadata": {},
     "outputs": [],
     "prompt_number": 41
    },
    {
     "cell_type": "code",
     "collapsed": false,
     "input": [
      "from mlabwrap import mlab;"
     ],
     "language": "python",
     "metadata": {},
     "outputs": [
      {
       "ename": "ImportError",
       "evalue": "No module named mlabwrap",
       "output_type": "pyerr",
       "traceback": [
        "\u001b[1;31m---------------------------------------------------------------------------\u001b[0m\n\u001b[1;31mImportError\u001b[0m                               Traceback (most recent call last)",
        "\u001b[1;32m<ipython-input-44-4fb3ef68bea9>\u001b[0m in \u001b[0;36m<module>\u001b[1;34m()\u001b[0m\n\u001b[1;32m----> 1\u001b[1;33m \u001b[1;32mfrom\u001b[0m \u001b[0mmlabwrap\u001b[0m \u001b[1;32mimport\u001b[0m \u001b[0mmlab\u001b[0m\u001b[1;33m;\u001b[0m\u001b[1;33m\u001b[0m\u001b[0m\n\u001b[0m",
        "\u001b[1;31mImportError\u001b[0m: No module named mlabwrap"
       ]
      }
     ],
     "prompt_number": 44
    },
    {
     "cell_type": "code",
     "collapsed": false,
     "input": [],
     "language": "python",
     "metadata": {},
     "outputs": []
    }
   ],
   "metadata": {}
  }
 ]
}